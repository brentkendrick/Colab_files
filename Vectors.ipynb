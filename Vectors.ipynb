{
 "cells": [
  {
   "cell_type": "code",
   "execution_count": 42,
   "metadata": {},
   "outputs": [
    {
     "name": "stdout",
     "output_type": "stream",
     "text": [
      "vector u 3X1 array:\n",
      "[[ 7]\n",
      " [ 9]\n",
      " [11]]\n",
      "vector transpose_u 1X3 array:\n",
      "[[ 7  9 11]]\n",
      "vector u written as 1X3 array:\n",
      "[[ 7  9 11]]\n",
      "\n",
      "transpose above back to 3X1 array\n",
      "[[ 7]\n",
      " [ 9]\n",
      " [11]]\n"
     ]
    }
   ],
   "source": [
    "import numpy as np\n",
    "import math\n",
    "\n",
    "u = np.array([[7],[9],[11]]) #each outer bracket set is a new row\n",
    "u_a=u.transpose() #transposes 3X1 array into 1X3 array\n",
    "u_b = np.array([[7,9,11]]) # creates a 1 X 3 array\n",
    "u_c = u_b.transpose()\n",
    "\n",
    "w = v.transpose()\n",
    "print('vector u 3X1 array:')\n",
    "print(u)\n",
    "print('vector transpose_u 1X3 array:')\n",
    "print(u_a)\n",
    "print('vector u written as 1X3 array:')\n",
    "print(u_b)\n",
    "print('')\n",
    "print('transpose above back to 3X1 array')\n",
    "print(u_c)"
   ]
  },
  {
   "cell_type": "code",
   "execution_count": 30,
   "metadata": {},
   "outputs": [
    {
     "name": "stdout",
     "output_type": "stream",
     "text": [
      "vector u:\n",
      "[[ 7  1]\n",
      " [ 9  2]\n",
      " [11  3]]\n",
      "\n",
      "vector v:\n",
      "[[2 2]\n",
      " [3 2]\n",
      " [4 1]]\n",
      "\n",
      "vector w: vector v transposed\n",
      "[[2 3 4]\n",
      " [2 2 1]]\n"
     ]
    }
   ],
   "source": [
    "import numpy as np\n",
    "import math\n",
    "\n",
    "u = np.array([[7,1],[9,2],[11,3]]) #each outer bracket set is a new row\n",
    "#u_a = np.array((((7,1),(9,2),(11,4))))  #can use all parentheses instead\n",
    "v = np.array([[2,2],[3,2],[4,1]])\n",
    "w = v.transpose()\n",
    "print('vector u:')\n",
    "print(u)\n",
    "print('')\n",
    "print('vector v:')\n",
    "print(v)\n",
    "print('')\n",
    "\n",
    "print('vector w: vector v transposed')\n",
    "print(w)\n"
   ]
  },
  {
   "cell_type": "code",
   "execution_count": 47,
   "metadata": {},
   "outputs": [
    {
     "name": "stdout",
     "output_type": "stream",
     "text": [
      "vector u\n",
      " [[ 7  9 11]] \n",
      "vector v\n",
      " [[2]\n",
      " [3]\n",
      " [4]] \n",
      "vector w i.e.transposed v\n",
      " [[2 3 4]]\n",
      "dot product of u and v\n",
      "[[85]]\n",
      "\n",
      "dot product of v and w\n",
      "[[14 18 22]\n",
      " [21 27 33]\n",
      " [28 36 44]]\n",
      "\n",
      "@ product of v and u\n",
      "[[14 18 22]\n",
      " [21 27 33]\n",
      " [28 36 44]]\n",
      "\n",
      "* product of v and u\n",
      "[[14 18 22]\n",
      " [21 27 33]\n",
      " [28 36 44]]\n",
      "\n",
      "can use inner function to get dot product of two like arrays\n",
      "vector u\n",
      "[[ 7  9 11]]\n",
      "vector w\n",
      "[[2 3 4]]\n",
      "inner product of u and w: \n",
      "[[85]]\n",
      "\n",
      "similarly for 3 X 1 array\n",
      "vector u transposed\n",
      "[[ 7]\n",
      " [ 9]\n",
      " [11]]\n",
      "vector v\n",
      "[[2]\n",
      " [3]\n",
      " [4]]\n",
      "inner product of u transposed and v: \n",
      "[[14 21 28]\n",
      " [18 27 36]\n",
      " [22 33 44]]\n",
      "\n"
     ]
    }
   ],
   "source": [
    "u = np.array([[7, 9, 11]]) #each outer bracket set is a new row\n",
    "v = np.array([[2],[3],[4]])\n",
    "\n",
    "print('vector u\\n',u,'\\nvector v\\n', v, '\\nvector w i.e.transposed v\\n',w)\n",
    "\n",
    "\n",
    "dot_u_v = np.dot(u,v)\n",
    "print('dot product of u and v')\n",
    "print(dot_u_v)\n",
    "print('')\n",
    "\n",
    "dot_v_u = np.dot(v,u)\n",
    "print('dot product of v and w')\n",
    "print(dot_v_u)\n",
    "print('')\n",
    "\n",
    "at_v_u = v@u\n",
    "print('@ product of v and u')\n",
    "print(at_v_u)\n",
    "print('')\n",
    "\n",
    "mult_v_u = v*u\n",
    "print('* product of v and u')\n",
    "print(mult_v_u)\n",
    "print('')\n",
    "\n",
    "print('can use inner function to get dot product of two like arrays')\n",
    "w = v.transpose()\n",
    "print('vector u')\n",
    "print(u)\n",
    "print('vector w')\n",
    "print(w)\n",
    "inner_u_w = np.inner(u,w)\n",
    "print(\"inner product of u and w: \")\n",
    "print(inner_u_w)\n",
    "print('')\n",
    "\n",
    "print('similarly for 3 X 1 array')\n",
    "x = u.transpose()\n",
    "print('vector u transposed')\n",
    "print(x)\n",
    "print('vector v')\n",
    "print(v)\n",
    "inner_x_v = np.inner(x,v)\n",
    "print(\"inner product of u transposed and v: \")\n",
    "print(inner_x_v)\n",
    "print('')\n"
   ]
  },
  {
   "cell_type": "code",
   "execution_count": 14,
   "metadata": {},
   "outputs": [
    {
     "name": "stdout",
     "output_type": "stream",
     "text": [
      "u_matrix\n",
      "[[ 7  9 11]]\n",
      "v_matrix\n",
      "[[2 3 4]]\n",
      "transpose of u_matrix\n",
      "[[ 7]\n",
      " [ 9]\n",
      " [11]]\n",
      "* product of transposed u_matrix and v_matrix\n",
      "[[14 21 28]\n",
      " [18 27 36]\n",
      " [22 33 44]]\n",
      "\n",
      "* product of v_matrix * transposed_matrix\n",
      "[[85]]\n",
      "\n"
     ]
    }
   ],
   "source": [
    "u_matrix = np.matrix(((7,9,11)))\n",
    "v_matrix = np.matrix(((2,3,4)))\n",
    "x_matrix = u_matrix.transpose()\n",
    "mult_x_matrix_v_matrix = x_matrix*v_matrix\n",
    "print(\"u_matrix\")\n",
    "print(u_matrix)\n",
    "print('v_matrix')\n",
    "print(v_matrix)\n",
    "print('transpose of u_matrix')\n",
    "print(x_matrix)\n",
    "print('* product of transposed u_matrix and v_matrix')\n",
    "\n",
    "print(mult_x_matrix_v_matrix)\n",
    "print('')\n",
    "mult_v_matrix_x_matrix = v_matrix*x_matrix\n",
    "print('* product of v_matrix * transposed_matrix')\n",
    "print(mult_v_matrix_x_matrix)\n",
    "print('')"
   ]
  },
  {
   "cell_type": "code",
   "execution_count": 51,
   "metadata": {},
   "outputs": [
    {
     "name": "stdout",
     "output_type": "stream",
     "text": [
      "3_d Vectors expressed as 1 X 3 arrays\n",
      "vector u1:\n",
      "[ 7  9 11]\n",
      "vector v1:\n",
      "[2 3 4]\n",
      "Length of u1: 15.84297951775486\n",
      "Length of v1: 5.385164807134504\n",
      "Length of u1 * v1:  85.31705573916624\n",
      "dot product of u1 and v1:\n",
      "85\n",
      "\n",
      "Angle between u1 and v1:  4.941082389818569\n"
     ]
    }
   ],
   "source": [
    "print('3_d Vectors expressed as 1 X 3 arrays')\n",
    "\n",
    "u1 = np.array([7, 9, 11])\n",
    "v1 = np.array([2,3,4])\n",
    "\n",
    "print('vector u1:')\n",
    "print(u1)\n",
    "print('vector v1:')\n",
    "print(v1)\n",
    "\n",
    "\n",
    "len_u1 = np.linalg.norm(u1)\n",
    "len_v1 = np.linalg.norm(v1)\n",
    "print('Length of u1:',len_u1)\n",
    "print('Length of v1:',len_v1)\n",
    "print('Length of u1 * v1: ', len_u1*len_v1)\n",
    "\n",
    "\n",
    "prod_u1_v1 = np.dot(u1,v1)\n",
    "print('dot product of u1 and v1:')\n",
    "print(prod_u1_v1)\n",
    "print('')\n",
    "\n",
    "angle = math.degrees(math.acos(prod_u1_v1/(len_u1*len_v1)))\n",
    "\n",
    "print('Angle between u1 and v1: ',angle)"
   ]
  },
  {
   "cell_type": "code",
   "execution_count": 82,
   "metadata": {},
   "outputs": [
    {
     "name": "stdout",
     "output_type": "stream",
     "text": [
      "The vectors u, v, and w being plotted are:\n",
      "[[1, -1, 1], [0, 1, -1], [1, 0, 0]]\n",
      "(1, 0, 1) (-1, 1, 0) (1, -1, 0)\n"
     ]
    },
    {
     "data": {
      "text/plain": [
       "(-1, 1)"
      ]
     },
     "execution_count": 82,
     "metadata": {},
     "output_type": "execute_result"
    }
   ],
   "source": [
    "from mpl_toolkits.mplot3d import axes3d\n",
    "import matplotlib.pyplot as plt\n",
    "import numpy as np\n",
    "\n",
    "%matplotlib qt\n",
    "\n",
    "fig = plt.figure()\n",
    "ax = fig.add_subplot(111,projection='3d')\n",
    "\n",
    "# Make a 3D quiver plot\n",
    "x, y, z = np.zeros((3,3)) #make zero origin\n",
    "\n",
    "u = [1,-1,1]\n",
    "v = [0,1,-1]\n",
    "w = [1,0,0]\n",
    "\n",
    "vctrs = [u,v,w]\n",
    "print(\"The vectors u, v, and w being plotted are:\")\n",
    "print(vctrs)\n",
    "\n",
    "a,b,c = zip(*vctrs)\n",
    "\n",
    "ax.quiver(x,y,z,a,b,c,arrow_length_ratio=0.1)\n",
    "\n",
    "ax.set_xlabel('x axis')\n",
    "ax.set_ylabel('y axis')\n",
    "ax.set_zlabel('z axis')\n",
    "\n",
    "print (a,b,c)\n",
    "\n",
    "for x1,y1,z1 in u, v, w:\n",
    "    label = '(%d, %d, %d)' % (x1, y1, z1)\n",
    "    ax.text(x1,y1,z1,label)\n",
    "\n",
    "#ax.text(a,b,c, \"1\")\n",
    "\n",
    "#find maximum value in vectors\n",
    "max_u = max(u)\n",
    "max_v = max(v)\n",
    "max_w = max(w)\n",
    "max_value = max(max_u, max_v, max_w)\n",
    "\n",
    "#find minimum value in vectors\n",
    "min_u = min(u)\n",
    "min_v = min(v)\n",
    "min_w = min(w)\n",
    "min_value = min(min_u, min_v, min_w)\n",
    "\n",
    "\n",
    "ax.set_xlim(min_value, max_value) \n",
    "ax.set_ylim(min_value, max_value) \n",
    "ax.set_zlim(min_value, max_value) \n",
    "\n",
    "\n",
    "# plt.show()\n",
    "\n"
   ]
  },
  {
   "cell_type": "code",
   "execution_count": 83,
   "metadata": {},
   "outputs": [
    {
     "name": "stdout",
     "output_type": "stream",
     "text": [
      "The vectors u, v, and w being plotted are:\n",
      "[array([ 1, -1,  1]), array([ 0,  1, -1]), array([1, 0, 0]), array([ 1, -2,  2])]\n",
      "(1, 0, 1, 1) (-1, 1, 0, -2) (1, -1, 0, 2)\n",
      "[ 1 -1  1]\n"
     ]
    },
    {
     "data": {
      "text/plain": [
       "(-1, 1)"
      ]
     },
     "execution_count": 83,
     "metadata": {},
     "output_type": "execute_result"
    }
   ],
   "source": [
    "from mpl_toolkits.mplot3d import axes3d\n",
    "import matplotlib.pyplot as plt\n",
    "import numpy as np\n",
    "\n",
    "%matplotlib qt\n",
    "\n",
    "fig = plt.figure()\n",
    "ax = fig.add_subplot(111,projection='3d')\n",
    "\n",
    "# Make a 3D quiver plot\n",
    "x, y, z = np.zeros((3,4)) #make zero origin\n",
    "\n",
    "u = np.array([1,-1,1])\n",
    "v =np.array([0,1,-1])\n",
    "w = u + v\n",
    "w2 = u-v\n",
    "\n",
    "vctrs = [u,v,w,w2]\n",
    "print(\"The vectors u, v, and w being plotted are:\")\n",
    "print(vctrs)\n",
    "\n",
    "a,b,c = zip(*vctrs)\n",
    "\n",
    "print (a,b,c)\n",
    "print(u)\n",
    "\n",
    "ax.quiver(x,y,z,a,b,c,arrow_length_ratio=0.1)\n",
    "\n",
    "ax.set_xlabel('x axis')\n",
    "ax.set_ylabel('y axis')\n",
    "ax.set_zlabel('z axis')\n",
    "\n",
    "u_named = np.append(u,[1])\n",
    "v_named = np.append(v,[2])\n",
    "w_named = np.append(w,[3])\n",
    "w2_named = np.append(w2,[4])\n",
    "\n",
    "for x1,y1,z1, name in u_named, v_named, w_named, w2_named:\n",
    "    label = '({},{},{}) vector{}'.format(x1, y1, z1, name)\n",
    "    ax.text(x1,y1,z1,label)\n",
    "\n",
    "#ax.text(a,b,c, \"1\")\n",
    "\n",
    "#find maximum value in vectors\n",
    "max_u = max(u)\n",
    "max_v = max(v)\n",
    "max_w = max(w)\n",
    "max_value = max(max_u, max_v, max_w)\n",
    "\n",
    "#find minimum value in vectors\n",
    "min_u = min(u)\n",
    "min_v = min(v)\n",
    "min_w = min(w)\n",
    "min_value = min(min_u, min_v, min_w)\n",
    "\n",
    "\n",
    "ax.set_xlim(min_value, max_value) \n",
    "ax.set_ylim(min_value, max_value) \n",
    "ax.set_zlim(min_value, max_value) \n",
    "\n",
    "\n",
    "# plt.show()\n",
    "\n"
   ]
  },
  {
   "cell_type": "code",
   "execution_count": 3,
   "metadata": {},
   "outputs": [
    {
     "name": "stdout",
     "output_type": "stream",
     "text": [
      "The vectors u, v, and w being plotted are:\n",
      "[array([1, 2, 3]), array([4, 5, 6]), array([7, 8, 9])]\n",
      "(1, 4, 7) (2, 5, 8) (3, 6, 9)\n",
      "[1 2 3]\n",
      "(1, 2, 3, 'u') (4, 5, 6, 'v') (7, 8, 9, 'u+v')\n"
     ]
    },
    {
     "data": {
      "text/plain": [
       "(1, 9)"
      ]
     },
     "execution_count": 3,
     "metadata": {},
     "output_type": "execute_result"
    }
   ],
   "source": [
    "from mpl_toolkits.mplot3d import axes3d\n",
    "import matplotlib.pyplot as plt\n",
    "import numpy as np\n",
    "\n",
    "%matplotlib qt\n",
    "\n",
    "fig = plt.figure()\n",
    "ax = fig.add_subplot(111,projection='3d')\n",
    "\n",
    "# Make a 3D quiver plot\n",
    "x, y, z = np.zeros((3,3)) #make zero origin\n",
    "\n",
    "u = np.array([1,2,3])\n",
    "v =np.array([4,5,6])\n",
    "w =np.array([7,8,9])\n",
    "\n",
    "vctrs = [u,v,w]\n",
    "print(\"The vectors u, v, and w being plotted are:\")\n",
    "print(vctrs)\n",
    "\n",
    "a,b,c = zip(*vctrs)\n",
    "\n",
    "print (a,b,c)\n",
    "print(u)\n",
    "\n",
    "ax.quiver(x,y,z,a,b,c,arrow_length_ratio=0.1)\n",
    "\n",
    "ax.set_xlabel('x axis')\n",
    "ax.set_ylabel('y axis')\n",
    "ax.set_zlabel('z axis')\n",
    "\n",
    "vector_names = ('u','v','u+v')\n",
    "u_named,v_named,w_named = zip(a, b, c, vector_names)\n",
    "print(u_named,v_named,w_named)\n",
    "\n",
    "for x1,y1,z1, name in u_named,v_named,w_named:\n",
    "    label = ' vector {}: ({},{},{})'.format(name, x1, y1, z1)\n",
    "    ax.text(x1,y1,z1,label)\n",
    "\n",
    "#ax.text(a,b,c, \"1\")\n",
    "\n",
    "#find maximum value in vectors\n",
    "max_u = max(u)\n",
    "max_v = max(v)\n",
    "max_w = max(w)\n",
    "\n",
    "max_value = max(max_u, max_v, max_w)\n",
    "\n",
    "#find minimum value in vectors\n",
    "min_u = min(u)\n",
    "min_v = min(v)\n",
    "min_w = min(w)\n",
    "\n",
    "min_value = min(min_u, min_v, min_w)\n",
    "\n",
    "\n",
    "ax.set_xlim(min_value, max_value) \n",
    "ax.set_ylim(min_value, max_value) \n",
    "ax.set_zlim(min_value, max_value) \n",
    "\n",
    "\n",
    "# plt.show()\n",
    "\n"
   ]
  },
  {
   "cell_type": "code",
   "execution_count": null,
   "metadata": {},
   "outputs": [],
   "source": [
    "for x1,y1,z1 in u, v, w, vctr_name:\n",
    "    label = \"({xval}, {yval}, {zval}), vector\".format(xval = x1, yval=y1, zval=z1)\n",
    "    ax.text(x1,y1,z1,label)\n",
    "\n",
    "   # (\"Hello {name}, your balance is {blc}.\".format(name=\"Adam\", blc=230.2346))\n",
    "    "
   ]
  },
  {
   "cell_type": "code",
   "execution_count": 5,
   "metadata": {},
   "outputs": [],
   "source": [
    "from mpl_toolkits.mplot3d import Axes3D\n",
    "import matplotlib.pyplot as plt\n",
    "import numpy as np\n",
    "\n",
    "fig = plt.figure()\n",
    "ax = fig.add_subplot(111,projection='3d')\n",
    "ax.set_xlim(0,2)\n",
    "ax.set_ylim(0,2)\n",
    "ax.set_zlim(0,2)\n",
    "ax.view_init(elev=20., azim=32)\n",
    "\n",
    "# Make a 3D quiver plot\n",
    "x, y, z = np.zeros((3,3))\n",
    "u, v, w = np.array([[1,1,-1],[1,0,1],[0,1,1]])\n",
    "\n",
    "ax.quiver(x,y,z,u,v,w,arrow_length_ratio=0.1)\n",
    "plt.show()"
   ]
  },
  {
   "cell_type": "code",
   "execution_count": 4,
   "metadata": {},
   "outputs": [
    {
     "name": "stdout",
     "output_type": "stream",
     "text": [
      "(1, 3)\n",
      "(0, 1)\n"
     ]
    },
    {
     "data": {
      "image/png": "[encoded data removed]",
      "text/plain": [
       "<matplotlib.figure.Figure at 0x29e64aac128>"
      ]
     },
     "metadata": {},
     "output_type": "display_data"
    }
   ],
   "source": [
    "import numpy as np\n",
    "import matplotlib.pyplot as plt\n",
    "%matplotlib inline\n",
    "\n",
    "soa = np.array([[3, 1, 1,0], [1, 4, 3,1]])\n",
    "X, Y, U, V = zip(*soa)\n",
    "print(U)\n",
    "print(V)\n",
    "plt.figure()\n",
    "ax = plt.gca()\n",
    "ax.quiver(X, Y, U, V, angles='xy', scale_units='xy', scale=1)\n",
    "ax.set_xlim([-1, 10])\n",
    "ax.set_ylim([-1, 10])\n",
    "plt.draw()\n",
    "plt.show()"
   ]
  },
  {
   "cell_type": "code",
   "execution_count": 81,
   "metadata": {},
   "outputs": [
    {
     "name": "stdout",
     "output_type": "stream",
     "text": [
      "(None, 1, 2, 10) ('x', 4, 5, 3) ('y', 4, 8, 8) ('z', 9, 10, 9) ((1, 1, 0), 4, 1, 1) ((1, 1, 1), 1, 2, 8)\n"
     ]
    }
   ],
   "source": [
    "zdirs = (None, 'x', 'y', 'z', (1, 1, 0), (1, 1, 1))\n",
    "xs = (1, 4, 4, 9, 4, 1)\n",
    "ys = (2, 5, 8, 10, 1, 2)\n",
    "zs = (10, 3, 8, 9, 1, 8)\n",
    "\n",
    "u,v,w,y,z,a = zip(zdirs, xs, ys, zs)\n",
    "\n",
    "print(u,v,w,y,z,a)"
   ]
  },
  {
   "cell_type": "code",
   "execution_count": 10,
   "metadata": {},
   "outputs": [
    {
     "data": {
      "image/png": "[encoded data removed]",
      "text/plain": [
       "<matplotlib.figure.Figure at 0x29e64c235c0>"
      ]
     },
     "metadata": {},
     "output_type": "display_data"
    }
   ],
   "source": [
    "from numpy import *\n",
    "import math\n",
    "import matplotlib.pyplot as plt\n",
    "\n",
    "x = linspace(2,4,400)\n",
    "y = (x-1)/2\n",
    "z = (11-3*x)/2\n",
    "\n",
    "plt.plot(x, y, x, z)\n",
    "plt.show()"
   ]
  },
  {
   "cell_type": "code",
   "execution_count": 47,
   "metadata": {},
   "outputs": [
    {
     "name": "stdout",
     "output_type": "stream",
     "text": [
      "[[0.3]\n",
      " [0.7]]\n",
      "[[0.  0.3]\n",
      " [1.  0.7]]\n",
      "[[0.45]\n",
      " [0.55]]\n",
      "[[0.   0.3  0.45]\n",
      " [1.   0.7  0.55]]\n",
      "[[0.525]\n",
      " [0.475]]\n",
      "[[0.    0.3   0.45  0.525]\n",
      " [1.    0.7   0.55  0.475]]\n",
      "[[0.5625]\n",
      " [0.4375]]\n",
      "[[0.     0.3    0.45   0.525  0.5625]\n",
      " [1.     0.7    0.55   0.475  0.4375]]\n",
      "[[0.58125]\n",
      " [0.41875]]\n",
      "[[0.      0.3     0.45    0.525   0.5625  0.58125]\n",
      " [1.      0.7     0.55    0.475   0.4375  0.41875]]\n",
      "[[0.590625]\n",
      " [0.409375]]\n",
      "[[0.       0.3      0.45     0.525    0.5625   0.58125  0.590625]\n",
      " [1.       0.7      0.55     0.475    0.4375   0.41875  0.409375]]\n",
      "[[0.       0.3      0.45     0.525    0.5625   0.58125  0.590625]\n",
      " [1.       0.7      0.55     0.475    0.4375   0.41875  0.409375]]\n",
      "[1 2 3 4 5 6 7]\n",
      "[[1 2 3 4 5 6 7]\n",
      " [1 2 3 4 5 6 7]]\n"
     ]
    },
    {
     "data": {
      "image/png": "[encoded data removed]",
      "text/plain": [
       "<matplotlib.figure.Figure at 0x20eac62c940>"
      ]
     },
     "metadata": {},
     "output_type": "display_data"
    }
   ],
   "source": [
    "import numpy as np\n",
    "import matplotlib.pyplot as plt\n",
    "%matplotlib inline\n",
    "u = np.matrix([[0],[1]])\n",
    "A = np.matrix([[0.8,0.3],[0.2,0.7]])\n",
    "\n",
    "x = u\n",
    "\n",
    "for j in range(1,7):\n",
    "    u = A*u\n",
    "    x = np.hstack((x,u))\n",
    "    print(u)\n",
    "    print(x)\n",
    "\n",
    "print(x)\n",
    "a = np.arange(1,8)\n",
    "print(a)\n",
    "k = np.vstack((a,a))\n",
    "print(k)\n",
    "plt.plot(k,x,'bs')\n",
    "plt.show()"
   ]
  },
  {
   "cell_type": "code",
   "execution_count": null,
   "metadata": {},
   "outputs": [],
   "source": []
  },
  {
   "cell_type": "code",
   "execution_count": 24,
   "metadata": {},
   "outputs": [
    {
     "name": "stdout",
     "output_type": "stream",
     "text": [
      "[[ 2  4 -2  2]\n",
      " [ 0  1  1  4]\n",
      " [-2 -3 -7 10]]\n",
      "[[ 2  4 -2  2]\n",
      " [ 0  1  1  4]\n",
      " [-2 -3 -7 10]]\n",
      "[[ 2  4 -2  2]\n",
      " [ 0  1  1  4]\n",
      " [-2 -3 -7 10]]\n"
     ]
    }
   ],
   "source": [
    "import numpy as np\n",
    "\n",
    "E = np.matrix([[1,0,0],[-2,1,0],[0,0,1]])\n",
    "A = np.matrix([[2,4,-2,2],[4,9,-3,8],[-2,-3,-7,10]])\n",
    "\n",
    "b = np.dot(E,A)\n",
    "c = E@A\n",
    "d = E*A\n",
    "\n",
    "print(b)\n",
    "print(c)\n",
    "print(d)\n"
   ]
  },
  {
   "cell_type": "code",
   "execution_count": 32,
   "metadata": {},
   "outputs": [
    {
     "name": "stdout",
     "output_type": "stream",
     "text": [
      "[[1 0 0]\n",
      " [0 0 1]\n",
      " [0 1 0]]\n",
      "[[ 2  4 -2]\n",
      " [ 4  9 -3]\n",
      " [-2 -3 -7]]\n",
      "[[ 2  4 -2]\n",
      " [-2 -3 -7]\n",
      " [ 4  9 -3]]\n",
      "[[ 2 -2  4]\n",
      " [ 4 -3  9]\n",
      " [-2 -7 -3]]\n"
     ]
    }
   ],
   "source": [
    "import numpy as np\n",
    "\n",
    "E = np.matrix([[1,0,0],[0,0,1],[0,1,0]])\n",
    "print(E)\n",
    "A = np.matrix([[2,4,-2],[4,9,-3],[-2,-3,-7]])\n",
    "print(A)\n",
    "\n",
    "d = E*A\n",
    "\n",
    "print(d)"
   ]
  },
  {
   "cell_type": "code",
   "execution_count": 33,
   "metadata": {},
   "outputs": [
    {
     "name": "stdout",
     "output_type": "stream",
     "text": [
      "[[ 1  0  0]\n",
      " [-4  1  0]\n",
      " [ 0  0  1]]\n",
      "[[1 0 0]\n",
      " [0 1 0]\n",
      " [2 0 1]]\n",
      "[[ 1  0  0]\n",
      " [ 0  1  0]\n",
      " [ 0 -2  1]]\n",
      "[[ 1  0  0]\n",
      " [-4  1  0]\n",
      " [ 2  0  1]]\n",
      "[[ 1  0  0]\n",
      " [-4  1  0]\n",
      " [ 2 -2  1]]\n"
     ]
    }
   ],
   "source": [
    "import numpy as np\n",
    "\n",
    "E21 = np.matrix([[1,0,0],[-4,1,0],[0,0,1]])\n",
    "print(E21)\n",
    "E31 = np.matrix([[1,0,0],[0,1,0],[2,0,1]])\n",
    "print(E31)\n",
    "E32 = np.matrix([[1,0,0],[0,1,0],[0,-2,1]])\n",
    "print(E32)\n",
    "\n",
    "d = E21*E31\n",
    "\n",
    "print(d)\n",
    "\n",
    "e = d*E32\n",
    "print(e)"
   ]
  },
  {
   "cell_type": "code",
   "execution_count": 2,
   "metadata": {},
   "outputs": [
    {
     "name": "stdout",
     "output_type": "stream",
     "text": [
      "[[2 5 5 2]\n",
      " [5 4 5 5]\n",
      " [5 5 4 5]\n",
      " [2 5 5 2]]\n"
     ]
    }
   ],
   "source": [
    "import numpy as np\n",
    "\n",
    "E = np.matrix([[0,1,1,0],[1,0,1,1],[1,1,0,1],[0,1,1,0]])\n",
    "\n",
    "d = E*E*E\n",
    "\n",
    "print(d)"
   ]
  },
  {
   "cell_type": "code",
   "execution_count": 7,
   "metadata": {},
   "outputs": [
    {
     "name": "stdout",
     "output_type": "stream",
     "text": [
      "vector u\n",
      " [[ 7  9 11]] \n",
      "vector v\n",
      " [[2]\n",
      " [3]\n",
      " [4]]\n",
      "[[85]]\n"
     ]
    }
   ],
   "source": [
    "import numpy as np\n",
    "u = np.array([[7, 9, 11]]) #each outer bracket set is a new row\n",
    "v = np.array([[2],[3],[4]])\n",
    "\n",
    "print('vector u\\n',u,'\\nvector v\\n', v, )\n",
    "\n",
    "w = u@v\n",
    "print (w)"
   ]
  },
  {
   "cell_type": "code",
   "execution_count": 11,
   "metadata": {},
   "outputs": [
    {
     "name": "stdout",
     "output_type": "stream",
     "text": [
      "[[ 7  9 11]]\n",
      "[[2]\n",
      " [3]\n",
      " [4]]\n",
      "[[85]]\n"
     ]
    }
   ],
   "source": [
    "u = np.matrix([[7,9,11]])\n",
    "v = np.matrix([[2],[3],[4]])\n",
    "print (u)\n",
    "print (v)\n",
    "\n",
    "w = u@v\n",
    "print (w)"
   ]
  },
  {
   "cell_type": "code",
   "execution_count": 1,
   "metadata": {},
   "outputs": [
    {
     "name": "stdout",
     "output_type": "stream",
     "text": [
      "[[ 1  0  0]\n",
      " [-4  1  0]\n",
      " [ 0  0  1]]\n",
      "[[1 2 2 1]\n",
      " [4 8 9 3]\n",
      " [0 3 2 1]]\n",
      "[[ 1  2  2  1]\n",
      " [ 0  0  1 -1]\n",
      " [ 0  3  2  1]]\n"
     ]
    }
   ],
   "source": [
    "import numpy as np\n",
    "\n",
    "E = np.matrix([[1,0,0],[-4,1,0],[0,0,1]])\n",
    "print(E)\n",
    "A = np.matrix([[1,2,2,1],[4,8,9,3],[0,3,2,1]])\n",
    "print(A)\n",
    "\n",
    "d = E*A\n",
    "\n",
    "print(d)"
   ]
  },
  {
   "cell_type": "code",
   "execution_count": 9,
   "metadata": {},
   "outputs": [
    {
     "data": {
      "image/png": "[encoded data removed]",
      "text/plain": [
       "<matplotlib.figure.Figure at 0x1cc8cd62b00>"
      ]
     },
     "metadata": {},
     "output_type": "display_data"
    }
   ],
   "source": [
    "import matplotlib.pyplot as plt\n",
    "from mpl_toolkits.mplot3d import Axes3D\n",
    "import numpy as np\n",
    "%matplotlib inline\n",
    "\n",
    "vectors=np.array( [ [0,0,0,-2,-2,2], [0,0,0,1,1,0],[0,0,0,2,1,0],[0,0,0,0.5,0.7,0]]) \n",
    "fig = plt.figure()\n",
    "ax = fig.add_subplot(111, projection='3d')\n",
    "for vector in vectors:\n",
    "    v = np.array([vector[3],vector[4],vector[5]])\n",
    "    vlength=np.linalg.norm(v)\n",
    "    ax.quiver(vector[0],vector[1],vector[2],vector[3],vector[4],vector[5],\n",
    "            pivot='tail',length=vlength,arrow_length_ratio=0.3/vlength)\n",
    "ax.set_xlim([-4,4])\n",
    "ax.set_ylim([-4,4])\n",
    "ax.set_zlim([0,4])\n",
    "ax.set_xlabel('x')\n",
    "ax.set_ylabel('y')\n",
    "ax.set_zlabel('z')\n",
    "plt.show()"
   ]
  },
  {
   "cell_type": "code",
   "execution_count": 20,
   "metadata": {},
   "outputs": [
    {
     "name": "stdout",
     "output_type": "stream",
     "text": [
      "[[ 1  2  2  2]\n",
      " [ 2  4  6  8]\n",
      " [ 3  6  8 10]]\n",
      "(Matrix([\n",
      "[1, 2, 0, -2],\n",
      "[0, 0, 1,  2],\n",
      "[0, 0, 0,  0]]), (0, 2))\n"
     ]
    }
   ],
   "source": [
    "import numpy as np\n",
    "from scipy.linalg import lu\n",
    "#from sympy import Matrix\n",
    "\n",
    "E = np.matrix([[1,2,2,2],[2,4,6,8],[3,6,8,10]])\n",
    "print(E)\n",
    "\n",
    "R = Matrix(E).rref()\n",
    "\n",
    "print(R)\n",
    "\n",
    "#P,L,U = lu(E)\n",
    "#print(U)\n",
    "#print(L)\n",
    "#print(P)"
   ]
  },
  {
   "cell_type": "code",
   "execution_count": 2,
   "metadata": {},
   "outputs": [
    {
     "name": "stdout",
     "output_type": "stream",
     "text": [
      "[[-1  1  0  0]\n",
      " [ 0 -1  1  0]\n",
      " [ 1  0 -1  0]\n",
      " [-1  0  0  1]\n",
      " [ 0 -1  0  1]\n",
      " [ 0  0 -1  1]]\n",
      "(Matrix([\n",
      "[1, 0, -1, 0, -1, -1],\n",
      "[0, 1, -1, 0,  0, -1],\n",
      "[0, 0,  0, 1,  1,  1],\n",
      "[0, 0,  0, 0,  0,  0]]), (0, 1, 3))\n"
     ]
    }
   ],
   "source": [
    "import numpy as np\n",
    "from sympy import Matrix\n",
    "\n",
    "E = np.matrix([[-1,1,0,0],[0,-1,1,0],[1,0,-1,0],[-1,0,0,1],[0,-1,0,1],[0,0,-1,1]])\n",
    "print(E)\n",
    "\n",
    "T = E.transpose()\n",
    "\n",
    "R = Matrix(T).rref()\n",
    "\n",
    "print(R)"
   ]
  },
  {
   "cell_type": "code",
   "execution_count": null,
   "metadata": {},
   "outputs": [],
   "source": []
  }
 ],
 "metadata": {
  "kernelspec": {
   "display_name": "Python 3",
   "language": "python",
   "name": "python3"
  },
  "language_info": {
   "codemirror_mode": {
    "name": "ipython",
    "version": 3
   },
   "file_extension": ".py",
   "mimetype": "text/x-python",
   "name": "python",
   "nbconvert_exporter": "python",
   "pygments_lexer": "ipython3",
   "version": "3.6.4"
  }
 },
 "nbformat": 4,
 "nbformat_minor": 2
}
