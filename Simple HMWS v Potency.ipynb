{
 "cells": [
  {
   "cell_type": "code",
   "execution_count": 41,
   "metadata": {},
   "outputs": [
    {
     "name": "stdout",
     "output_type": "stream",
     "text": [
      "     Assay  Sample1  Sample2  Sample3  Sample4  Sample5\n",
      "0    HMWS%     1.36     0.96     0.76     1.06     0.86\n",
      "1  Potency    94.20    98.20   105.20   102.20   100.20\n",
      "   Sample1  Sample2  Sample3  Sample4  Sample5\n",
      "0     1.36     0.96     0.76     1.06     0.86\n",
      "1    94.20    98.20   105.20   102.20   100.20\n",
      "         %HMWS  Potency\n",
      "Sample1   1.36     94.2\n",
      "Sample2   0.96     98.2\n",
      "Sample3   0.76    105.2\n"
     ]
    },
    {
     "data": {
      "text/plain": [
       "<matplotlib.axes._subplots.AxesSubplot at 0x1df48595a58>"
      ]
     },
     "execution_count": 41,
     "metadata": {},
     "output_type": "execute_result"
    },
    {
     "data": {
      "image/png": "[encoded data removed]",
      "text/plain": [
       "<matplotlib.figure.Figure at 0x1df48580320>"
      ]
     },
     "metadata": {},
     "output_type": "display_data"
    }
   ],
   "source": [
    "import pandas as pd\n",
    "import matplotlib.pyplot as plt \n",
    "%matplotlib inline\n",
    "\n",
    "df = pd.read_csv(\"ExampleData1.csv\")\n",
    "\n",
    "print(df.head(8))\n",
    "\n",
    "df.drop(\"Assay\", axis=1, inplace=True)\n",
    "\n",
    "print(df.head(3))\n",
    "\n",
    "fig = plt.figure()\n",
    "fig.subplots_adjust(top=0.8)\n",
    "ax1 = fig.add_subplot(211)\n",
    "ax1.set_ylabel('Potency')\n",
    "ax1.set_xlabel('%HMWS')\n",
    "ax1.set_title('Potency vs. HMWS')\n",
    "\n",
    "dfPlot = df.T\n",
    "dfPlot.columns = ['%HMWS', 'Potency'] \n",
    "print(dfPlot.head(3))\n",
    "\n",
    "dfPlot.plot(kind = 'scatter', x=0, y=1, ax=ax1)\n",
    "\n",
    "# df.T.plot(kind='scatter', x=0, y=1)"
   ]
  },
  {
   "cell_type": "code",
   "execution_count": 20,
   "metadata": {},
   "outputs": [
    {
     "data": {
      "text/plain": [
       "<matplotlib.axes._subplots.AxesSubplot at 0x1df46e20400>"
      ]
     },
     "execution_count": 20,
     "metadata": {},
     "output_type": "execute_result"
    },
    {
     "data": {
      "image/png": "[encoded data removed]",
      "text/plain": [
       "<matplotlib.figure.Figure at 0x1df46e4c160>"
      ]
     },
     "metadata": {},
     "output_type": "display_data"
    }
   ],
   "source": [
    "#Subtract the row mean value from each value in each row\n",
    "df2 = df.sub(df.mean(axis=1), axis=0)\n",
    "\n",
    "df2.head(3)\n",
    "\n",
    "df2.T.plot(kind='scatter', x=0, y=1)"
   ]
  },
  {
   "cell_type": "code",
   "execution_count": 24,
   "metadata": {},
   "outputs": [
    {
     "data": {
      "text/plain": [
       "array([[ 0.36, -0.04, -0.24,  0.06, -0.14],\n",
       "       [-5.8 , -1.8 ,  5.2 ,  2.2 ,  0.2 ]])"
      ]
     },
     "execution_count": 24,
     "metadata": {},
     "output_type": "execute_result"
    }
   ],
   "source": [
    "A = df2.values\n",
    "A"
   ]
  },
  {
   "cell_type": "code",
   "execution_count": 50,
   "metadata": {},
   "outputs": [
    {
     "name": "stdout",
     "output_type": "stream",
     "text": [
      "A * Atranspose gives the Covariance Matrix\n",
      "[[ 0.053 -0.79 ]\n",
      " [-0.79  17.2  ]] \n",
      "\n",
      "eigenvalue 1:  0.016679894446109955\n",
      "eigenvalue 2:  17.23632010555389 \n",
      "\n",
      "eigenvalues\n",
      "[1.66798944e-02 1.72363201e+01] \n",
      "\n",
      "eigenvectors\n",
      "[[-0.99894483  0.04592631]\n",
      " [-0.04592631 -0.99894483]] \n",
      "\n",
      "SVD\n",
      "Matrix U\n",
      "[[-0.04592631  0.99894483]\n",
      " [ 0.99894483  0.04592631]] \n",
      "\n",
      "Sigma\n",
      "[1.72363201e+01 1.66798944e-02] \n",
      "\n",
      "Matrix V transpose\n",
      "[[-0.04592631  0.99894483]\n",
      " [ 0.99894483  0.04592631]]\n"
     ]
    }
   ],
   "source": [
    "import numpy as np\n",
    "from math import sqrt\n",
    "from scipy.linalg import svd\n",
    "\n",
    "\n",
    "# A = np.matrix([[0.36, -0.04, -0.24, 0.06, -0.14],\n",
    "#                [5.8, 1.8, -5.2, -2.2, -0.2]])\n",
    "\n",
    "# A_length = int(A.shape[1])\n",
    "\n",
    "# AAT = np.dot(A,A.T)/(A_length-1)\n",
    "\n",
    "A_Length = int(df2.shape[1])\n",
    "AAT = np.dot(df2, df2.T)/(A_Length-1)\n",
    "\n",
    "print('A * Atranspose gives the Covariance Matrix')\n",
    "print(AAT, '\\n')\n",
    "\n",
    "eigenvalues, eigenvectors = np.linalg.eig(AAT)\n",
    "\n",
    "e1, e2 = eigenvalues\n",
    "print('eigenvalue 1: ', e1)\n",
    "print('eigenvalue 2: ', e2, '\\n')\n",
    "\n",
    "print('eigenvalues')\n",
    "print (eigenvalues, '\\n')\n",
    "print('eigenvectors')\n",
    "print (eigenvectors, '\\n')\n",
    "\n",
    "print('SVD')\n",
    "\n",
    "# SVD\n",
    "U, s, VT = svd(AAT)\n",
    "print('Matrix U')\n",
    "print(U, '\\n')\n",
    "print('Sigma')\n",
    "print(s, '\\n')\n",
    "print('Matrix V transpose')\n",
    "print(VT)"
   ]
  },
  {
   "cell_type": "code",
   "execution_count": 42,
   "metadata": {},
   "outputs": [
    {
     "name": "stdout",
     "output_type": "stream",
     "text": [
      "0.79\n",
      "0.053\n",
      "17.200000000000003\n"
     ]
    }
   ],
   "source": [
    "#Manual calculation of Variances and Covariances\n",
    "\n",
    "import pandas as pd\n",
    "import numpy as np\n",
    "from math import sqrt\n",
    "\n",
    "from sklearn.decomposition import PCA\n",
    "from sklearn import preprocessing\n",
    "import matplotlib.pyplot as plt \n",
    "%matplotlib inline\n",
    "\n",
    "m = np.array([0.36, -0.04, -0.24, 0.06, -0.14])\n",
    "\n",
    "#m_mag = sqrt(0.36**2 + 0.04**2 + 0.24**2 + 0.06**2 + 0.14**2)\n",
    "#mN = m/m_mag\n",
    "\n",
    "n = np.array([5.8, 1.8, -5.2, -2.2, -0.2])\n",
    "\n",
    "#n_mag = sqrt(5.8**2 + 1.8**2 + 5.2**2 + 2.2**2 + 0.2*2)\n",
    "#nN = n/n_mag\n",
    "\n",
    "\n",
    "v = np.dot(m,n.T)\n",
    "\n",
    "var_m = np.dot(m,m.T)/(len(n)-1)\n",
    "\n",
    "var_n = np.dot(n,n.T)/(len(n)-1)\n",
    "\n",
    "covar = v/(len(n)-1)\n",
    "\n",
    "print (covar)\n",
    "print(var_m)\n",
    "print(var_n)\n",
    "\n",
    "# need to normalize to length 1\n",
    "\n",
    "\n",
    "#eigenvalues, eigenvectors = np.linalg.eig(m)\n",
    "#print (eigenvalues)\n",
    "#print (eigenvectors)"
   ]
  },
  {
   "cell_type": "code",
   "execution_count": null,
   "metadata": {},
   "outputs": [],
   "source": [
    "\n",
    "\n",
    "df.sub(df.mean(axis=1), axis=0)"
   ]
  }
 ],
 "metadata": {
  "kernelspec": {
   "display_name": "Python 3",
   "language": "python",
   "name": "python3"
  },
  "language_info": {
   "codemirror_mode": {
    "name": "ipython",
    "version": 3
   },
   "file_extension": ".py",
   "mimetype": "text/x-python",
   "name": "python",
   "nbconvert_exporter": "python",
   "pygments_lexer": "ipython3",
   "version": "3.6.4"
  }
 },
 "nbformat": 4,
 "nbformat_minor": 2
}
